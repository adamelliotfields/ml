{
 "cells": [
  {
   "cell_type": "markdown",
   "metadata": {},
   "source": [
    "# Cloudflare\n",
    "\n",
    "[![Open in Colab](https://colab.research.google.com/assets/colab-badge.svg)](https://colab.research.google.com/github/adamelliotfields/ml/blob/main/notebooks/cloudflare.ipynb)\n",
    "[![Render nbviewer](https://img.shields.io/badge/render-nbviewer-f37726)](https://nbviewer.org/github/adamelliotfields/ml/blob/main/notebooks/cloudflare.ipynb)\n",
    "\n",
    "This is my opinionated setup for networking in Colab. It assumes you already have an existing [Cloudflare Tunnel](https://www.cloudflare.com/products/tunnel). If not, read my [gist](https://gist.github.com/adamelliotfields/9e3610eecef19be5d38b87a2caec4912) on how to create a tunnel with a custom domain name.\n",
    "\n",
    "**Why?** Colab doesn't expose your VM to the internet. Cloudflare Tunnel creates a secure connection between your device and Cloudflare's network (the internet).\n",
    "\n",
    "My approach follows 3 rules:\n",
    "  1. Use the GUI button to mount Google Drive. Using `drive.mount()` in Python requires authenticating every time.\n",
    "  2. Store Cloudflare configuration in Drive. The only thing that ever changes is the port number.\n",
    "  3. Manage the tunnel with SysV. Avoid shell scripts and separate terminals.\n",
    "\n",
    "It requires 2 text files: `config.yml` and `${UUID}.json`. The UUID is unique to your tunnel. The JSON file is generated after running `cloudflared tunnel create` for the first time.\n",
    "\n",
    "You create `config.yml` manually and it looks like this:\n",
    "\n",
    "```yaml\n",
    "tunnel: $UUID\n",
    "url: http://localhost:8000\n",
    "credentials-file: /content/drive/MyDrive/cloudflared/$UUID.json\n",
    "```\n",
    "\n",
    "Both files go in `/content/drive/MyDrive/cloudflared` with `config.yml` being the source-of-truth. You only have to do this once."
   ]
  },
  {
   "cell_type": "code",
   "execution_count": null,
   "metadata": {},
   "outputs": [],
   "source": [
    "# @markdown ## Config\n",
    "PORT = 8000  # @param {type: \"integer\"}"
   ]
  },
  {
   "cell_type": "code",
   "execution_count": null,
   "metadata": {},
   "outputs": [],
   "source": [
    "# @title Deps\n",
    "import os\n",
    "import yaml\n",
    "import shutil\n",
    "import requests\n",
    "import subprocess"
   ]
  },
  {
   "cell_type": "code",
   "execution_count": null,
   "metadata": {},
   "outputs": [],
   "source": [
    "# @title Install cloudflared\n",
    "if not shutil.which(\"cloudflared\"):\n",
    "    # colab is ubuntu amd64\n",
    "    file = \"cloudflared-linux-amd64.deb\"\n",
    "    r = requests.get(f\"https://github.com/cloudflare/cloudflared/releases/latest/download/{file}\")\n",
    "    with open(f\"/tmp/{file}\", \"wb\") as f:\n",
    "        f.write(r.content)\n",
    "    subprocess.run([\"dpkg\", \"-i\", f\"/tmp/{file}\"])\n",
    "\n",
    "# cloudflared copies the remote config to /etc/cloudflared when installing the service\n",
    "# if the local config exists, install exits with a non-zero\n",
    "if not os.path.exists(\"/etc/cloudflared/config.yml\"):\n",
    "    # set port in config\n",
    "    cloudflared_home = \"/content/drive/MyDrive/cloudflared\"\n",
    "    with open(f\"{cloudflared_home}/config.yml\", \"r\") as f:\n",
    "        config = yaml.safe_load(f)\n",
    "    with open(f\"{cloudflared_home}/config.yml\", \"w\") as f:\n",
    "        config[\"url\"] = f\"http://localhost:{PORT}\" if PORT else config[\"url\"]\n",
    "        yaml.safe_dump(config, f)\n",
    "    # install service\n",
    "    subprocess.run(\n",
    "        [\"cloudflared\", \"--config\", f\"{cloudflared_home}/config.yml\", \"service\", \"install\"]\n",
    "    )\n",
    "\n",
    "# print tunnel status\n",
    "process = subprocess.run([\"service\", \"cloudflared\", \"status\"], capture_output=True, text=True)\n",
    "print(f\"Tunnel: {process.stdout}\")  # \"Running\" or \"Stopped\""
   ]
  },
  {
   "cell_type": "code",
   "execution_count": null,
   "metadata": {},
   "outputs": [],
   "source": [
    "# @title Run web app\n",
    "# (for demo only)\n",
    "with open(\"/tmp/index.html\", \"w\") as f:\n",
    "    f.write(\"<h1>Hello World</h1>\")\n",
    "\n",
    "# ensure the tunnel is up: https://one.dash.cloudflare.com\n",
    "subprocess.run([\"service\", \"cloudflared\", \"restart\"])\n",
    "\n",
    "# run the server, pipe output back to main process and decode (text=True)\n",
    "process = subprocess.Popen(\n",
    "    [\"python\", \"-m\", \"http.server\", \"--directory\", \"/tmp\", str(PORT if PORT else 8000)],\n",
    "    stderr=subprocess.STDOUT,\n",
    "    stdout=subprocess.PIPE,\n",
    "    text=True,\n",
    ")\n",
    "\n",
    "# stopping the web app also stops the tunnel service even if handled gracefully\n",
    "try:\n",
    "    for line in iter(process.stdout.readline, \"\"):\n",
    "        print(line.strip())\n",
    "except KeyboardInterrupt:\n",
    "    pass\n",
    "finally:\n",
    "    process.terminate()\n",
    "    process.wait()"
   ]
  }
 ],
 "metadata": {
  "kernelspec": {
   "display_name": ".venv",
   "language": "python",
   "name": "python3"
  },
  "language_info": {
   "name": "python",
   "version": "3.11.9"
  }
 },
 "nbformat": 4,
 "nbformat_minor": 2
}
