{
 "cells": [
  {
   "cell_type": "markdown",
   "metadata": {},
   "source": [
    "# Widgets\n",
    "\n",
    "[![Open in Colab](https://colab.research.google.com/assets/colab-badge.svg)](https://colab.research.google.com/github/adamelliotfields/ml/blob/main/notebooks/widgets.ipynb)\n",
    "[![Render nbviewer](https://img.shields.io/badge/render-nbviewer-f37726)](https://nbviewer.org/github/adamelliotfields/ml/blob/main/notebooks/widgets.ipynb)\n",
    "\n",
    "Examples of and notes on [Jupyter Widgets](https://ipywidgets.readthedocs.io/en/stable/) (aka `ipywidgets`). Not an exhaustive list."
   ]
  },
  {
   "cell_type": "code",
   "execution_count": null,
   "metadata": {},
   "outputs": [],
   "source": [
    "import ipywidgets as widgets"
   ]
  },
  {
   "cell_type": "markdown",
   "metadata": {},
   "source": [
    "## Layout\n",
    "\n",
    "See:\n",
    "* `Box`\n",
    "* `HBox`\n",
    "* `VBox`\n",
    "* `GridBox`\n",
    "* `Accordion`\n",
    "* `Tab`\n",
    "* `Stack`"
   ]
  },
  {
   "cell_type": "markdown",
   "metadata": {},
   "source": [
    "### GridBox\n",
    "\n",
    "Allows you to use CSS grid to create flexible layouts."
   ]
  },
  {
   "cell_type": "code",
   "execution_count": null,
   "metadata": {},
   "outputs": [],
   "source": [
    "items = [widgets.Label(str(i)) for i in range(8)]\n",
    "layout = widgets.Layout(\n",
    "    # https://developer.mozilla.org/en-US/docs/Web/CSS/repeat\n",
    "    grid_template_columns=\"repeat(3, 100px)\",\n",
    ")\n",
    "widgets.GridBox(items, layout=layout)"
   ]
  },
  {
   "cell_type": "markdown",
   "metadata": {},
   "source": [
    "### Tabs"
   ]
  },
  {
   "cell_type": "code",
   "execution_count": null,
   "metadata": {},
   "outputs": [],
   "source": [
    "tab = widgets.Tab(children=[widgets.Label(value=\"Tab 1\"), widgets.Label(value=\"Tab 2\")])\n",
    "tab.set_title(0, \"Tab 1\")\n",
    "tab.set_title(1, \"Tab 2\")\n",
    "tab"
   ]
  },
  {
   "cell_type": "markdown",
   "metadata": {},
   "source": [
    "### Accordion"
   ]
  },
  {
   "cell_type": "code",
   "execution_count": null,
   "metadata": {},
   "outputs": [],
   "source": [
    "accordion = widgets.Accordion(\n",
    "    children=[\n",
    "        widgets.Label(value=\"Tab 1\"),\n",
    "        widgets.Label(value=\"Tab 2\"),\n",
    "    ]\n",
    ")\n",
    "accordion.set_title(0, \"Tab 1\")\n",
    "accordion.set_title(1, \"Tab 2\")\n",
    "accordion"
   ]
  },
  {
   "cell_type": "markdown",
   "metadata": {},
   "source": [
    "### Stack\n",
    "\n",
    "Like the Accordion and Tab, it can have many children. However, it only displays one at a time, based on the selected index."
   ]
  },
  {
   "cell_type": "code",
   "execution_count": null,
   "metadata": {},
   "outputs": [],
   "source": [
    "button = widgets.Button(description=\"Click here\")\n",
    "slider = widgets.IntSlider()\n",
    "\n",
    "dropdown = widgets.Dropdown(options=[(\"Button\", 0), (\"Slider\", 1)], value=0)\n",
    "stack = widgets.Stack([button, slider], selected_index=0)\n",
    "\n",
    "# link dropdown index to stack selected_index\n",
    "widgets.jslink((dropdown, \"index\"), (stack, \"selected_index\"))\n",
    "widgets.VBox([stack, dropdown])"
   ]
  },
  {
   "cell_type": "markdown",
   "metadata": {},
   "source": [
    "## Input\n",
    "\n",
    "Use `widget.keys` to get a list of available properties. Use `widget.value` to get the value of the widget."
   ]
  },
  {
   "cell_type": "markdown",
   "metadata": {},
   "source": [
    "### Sliders\n",
    "\n",
    "See:\n",
    "- `IntSlider`\n",
    "- `FloatSlider`\n",
    "- `FloatLogSlider`\n",
    "- `IntRangeSlider`\n",
    "- `FloatRangeSlider`"
   ]
  },
  {
   "cell_type": "code",
   "execution_count": null,
   "metadata": {},
   "outputs": [],
   "source": [
    "# sliders\n",
    "int_slider = widgets.IntSlider(\n",
    "    value=5,\n",
    "    min=0,\n",
    "    max=10,\n",
    "    step=1,\n",
    "    description=\"Int Slider:\",\n",
    "    style={\"description_width\": \"4rem\", \"handle_color\": \"rebeccapurple\"},\n",
    "    continuous_update=False,  # update the value while it's being dragged (default: True)\n",
    "    readout=True,  # display output next to slider (default: True)\n",
    ")\n",
    "\n",
    "float_slider = widgets.FloatSlider(\n",
    "    value=5.5,\n",
    "    min=0.0,\n",
    "    max=10.0,\n",
    "    step=0.1,\n",
    "    description=\"Float Slider:\",\n",
    "    orientation=\"vertical\",\n",
    ")\n",
    "\n",
    "int_range_slider = widgets.IntRangeSlider(\n",
    "    value=[2, 8],\n",
    "    min=0,\n",
    "    max=10,\n",
    "    step=2,\n",
    "    description=\"Int Range Slider:\",\n",
    "    style={\"description_width\": \"104px\"},\n",
    ")\n",
    "\n",
    "widgets.VBox([int_slider, float_slider, int_range_slider])"
   ]
  },
  {
   "cell_type": "markdown",
   "metadata": {},
   "source": [
    "### Progress\n",
    "\n",
    "* `IntProgress`\n",
    "* `FloatProgress`"
   ]
  },
  {
   "cell_type": "code",
   "execution_count": null,
   "metadata": {},
   "outputs": [],
   "source": [
    "progress1 = widgets.IntProgress(\n",
    "    value=7,\n",
    "    min=0,\n",
    "    max=10,\n",
    "    description=\"Loading:\",\n",
    "    bar_style=\"\",  # 'success', 'info', 'warning', 'danger' or ''\n",
    "    style={\"bar_color\": \"maroon\"},\n",
    "    orientation=\"horizontal\",\n",
    ")\n",
    "progress2 = widgets.FloatProgress(\n",
    "    value=7.5,\n",
    "    min=0,\n",
    "    max=10.0,\n",
    "    description=\"Loading:\",\n",
    "    bar_style=\"info\",\n",
    "    style={\"bar_color\": \"#ffff00\"},\n",
    "    orientation=\"horizontal\",\n",
    ")\n",
    "widgets.VBox([progress1, progress2])"
   ]
  },
  {
   "cell_type": "markdown",
   "metadata": {},
   "source": [
    "### Text\n",
    "\n",
    "See:\n",
    "* `BoundedIntText`\n",
    "* `BoundedFloatText`\n",
    "* `IntText`\n",
    "* `FloatText`\n",
    "* `Text`\n",
    "* `Textarea`\n",
    "* `Password`"
   ]
  },
  {
   "cell_type": "code",
   "execution_count": null,
   "metadata": {},
   "outputs": [],
   "source": [
    "text = widgets.Text(\n",
    "    value=\"Hello, world!\",\n",
    "    placeholder=\"Type something...\",\n",
    "    description=\"Text:\",\n",
    ")\n",
    "int_text = widgets.BoundedIntText(\n",
    "    value=5,\n",
    "    min=0,\n",
    "    max=10,\n",
    "    step=1,\n",
    "    description=\"Int Text:\",\n",
    ")\n",
    "float_text = widgets.BoundedFloatText(\n",
    "    value=5.5,\n",
    "    min=0.0,\n",
    "    max=10.0,\n",
    "    step=0.1,\n",
    "    description=\"Float Text:\",\n",
    ")\n",
    "password_text = widgets.Password(\n",
    "    value=\"\",\n",
    "    placeholder=\"Enter your password...\",\n",
    "    description=\"Password:\",\n",
    ")\n",
    "text_area = widgets.Textarea(\n",
    "    value=\"Hello, world!\",\n",
    "    placeholder=\"Type something...\",\n",
    "    description=\"Text Area:\",\n",
    ")\n",
    "\n",
    "widgets.VBox(\n",
    "    [\n",
    "        text,\n",
    "        int_text,\n",
    "        float_text,\n",
    "        password_text,\n",
    "        text_area,\n",
    "    ]\n",
    ")"
   ]
  },
  {
   "cell_type": "markdown",
   "metadata": {},
   "source": [
    "### Dropdown"
   ]
  },
  {
   "cell_type": "code",
   "execution_count": null,
   "metadata": {},
   "outputs": [],
   "source": [
    "dropdown = widgets.Dropdown(\n",
    "    options=[\"Option 1\", \"Option 2\", \"Option 3\"],\n",
    "    description=\"Dropdown:\",\n",
    ")\n",
    "dropdown"
   ]
  },
  {
   "cell_type": "markdown",
   "metadata": {},
   "source": [
    "### Combobox\n",
    "\n",
    "Combination of text input with dropdown."
   ]
  },
  {
   "cell_type": "code",
   "execution_count": null,
   "metadata": {},
   "outputs": [],
   "source": [
    "combobox = widgets.Combobox(\n",
    "    placeholder=\"Select...\",\n",
    "    options=[\"Option 1\", \"Option 2\", \"Option 3\"],\n",
    "    description=\"Combobox:\",\n",
    ")\n",
    "combobox"
   ]
  },
  {
   "cell_type": "markdown",
   "metadata": {},
   "source": [
    "### Checkbox"
   ]
  },
  {
   "cell_type": "code",
   "execution_count": null,
   "metadata": {},
   "outputs": [],
   "source": [
    "checkbox = widgets.Checkbox(\n",
    "    value=False,\n",
    "    description=\"\",\n",
    "    indent=False,\n",
    ")\n",
    "checkbox_out = widgets.Output(\n",
    "    layout={\"border\": \"1px solid black\", \"padding\": \"4px\", \"width\": \"72px\"},\n",
    ")\n",
    "\n",
    "\n",
    "def on_checkbox_change(change):\n",
    "    with checkbox_out:\n",
    "        checkbox_out.clear_output(wait=True)\n",
    "        checkbox_out.layout.border = \"1px solid red\" if not change[\"new\"] else \"1px solid green\"\n",
    "        print(change[\"new\"])\n",
    "\n",
    "\n",
    "checkbox.observe(on_checkbox_change, names=\"value\")\n",
    "on_checkbox_change({\"new\": checkbox.value})\n",
    "\n",
    "widgets.VBox([checkbox, checkbox_out])"
   ]
  },
  {
   "cell_type": "markdown",
   "metadata": {},
   "source": [
    "### Buttons"
   ]
  },
  {
   "cell_type": "code",
   "execution_count": null,
   "metadata": {},
   "outputs": [],
   "source": [
    "btn = widgets.Button(\n",
    "    description=\" Click me!\",\n",
    "    tooltip=\"Do not click me\",\n",
    "    icon=\"check\",  # FontAwesome icon name without \"fa-\" prefix (doesn't work in Colab?)\n",
    ")\n",
    "btn_success = widgets.Button(description=\"Click me!\", button_style=\"success\")\n",
    "btn_info = widgets.Button(description=\"Click me!\", button_style=\"info\")\n",
    "btn_warning = widgets.Button(description=\"Click me!\", button_style=\"warning\")\n",
    "btn_danger = widgets.Button(description=\"Click me!\", button_style=\"danger\")\n",
    "\n",
    "widgets.VBox(\n",
    "    [\n",
    "        btn,\n",
    "        btn_info,\n",
    "        btn_success,\n",
    "        btn_warning,\n",
    "        btn_danger,\n",
    "    ]\n",
    ")"
   ]
  },
  {
   "cell_type": "markdown",
   "metadata": {},
   "source": [
    "### Radio buttons"
   ]
  },
  {
   "cell_type": "code",
   "execution_count": null,
   "metadata": {},
   "outputs": [],
   "source": [
    "radio_buttons = widgets.RadioButtons(\n",
    "    options=[\"Option 1\", \"Option 2\", \"Option 3\"],\n",
    "    description=\"Radios:\",\n",
    ")\n",
    "radio_buttons"
   ]
  },
  {
   "cell_type": "markdown",
   "metadata": {},
   "source": [
    "### Toggle buttons"
   ]
  },
  {
   "cell_type": "code",
   "execution_count": null,
   "metadata": {},
   "outputs": [],
   "source": [
    "toggle_buttons = widgets.ToggleButtons(\n",
    "    options=[\"Slow\", \"Regular\", \"Fast\"],\n",
    "    tooltips=[\"Slow speed\", \"Regular speed\", \"Fast speed\"],\n",
    "    description=\"Toggle Speed:\",\n",
    "    style={\"description_width\": \"84px\"},\n",
    ")\n",
    "toggle_buttons"
   ]
  },
  {
   "cell_type": "markdown",
   "metadata": {},
   "source": [
    "### Multiselect"
   ]
  },
  {
   "cell_type": "code",
   "execution_count": null,
   "metadata": {},
   "outputs": [],
   "source": [
    "multiselect = widgets.SelectMultiple(\n",
    "    options=[\"Option 1\", \"Option 2\", \"Option 3\"],\n",
    "    description=\"Multiselect:\",\n",
    ")\n",
    "multiselect"
   ]
  },
  {
   "cell_type": "markdown",
   "metadata": {},
   "source": [
    "### Date picker"
   ]
  },
  {
   "cell_type": "code",
   "execution_count": null,
   "metadata": {},
   "outputs": [],
   "source": [
    "date_picker = widgets.DatePicker(description=\"Date:\")\n",
    "date_picker"
   ]
  },
  {
   "cell_type": "markdown",
   "metadata": {},
   "source": [
    "### Color picker"
   ]
  },
  {
   "cell_type": "code",
   "execution_count": null,
   "metadata": {},
   "outputs": [],
   "source": [
    "color_picker = widgets.ColorPicker(\n",
    "    value=\"dodgerblue\",\n",
    "    concise=False,  # disable the text input next to the color picker\n",
    ")\n",
    "color_picker"
   ]
  },
  {
   "cell_type": "markdown",
   "metadata": {},
   "source": [
    "### File upload"
   ]
  },
  {
   "cell_type": "code",
   "execution_count": null,
   "metadata": {},
   "outputs": [],
   "source": [
    "# https://github.com/microsoft/vscode-jupyter/issues/13469\n",
    "uploader = widgets.FileUpload(\n",
    "    accept=\"\",\n",
    "    multiple=False,\n",
    ")\n",
    "\n",
    "\n",
    "def on_upload(_):\n",
    "    for name, file_info in uploader.value.items():\n",
    "        print(name)\n",
    "        print(file_info)\n",
    "\n",
    "\n",
    "# {\n",
    "#   'metadata': {\n",
    "#     'name': 'hello.txt',\n",
    "#     'type': 'text/plain',\n",
    "#     'size': 42,\n",
    "#     'lastModified': 1700244646841\n",
    "#   },\n",
    "#   'content': b'hello, world!\\n'\n",
    "# }\n",
    "uploader.observe(on_upload, names=\"value\")\n",
    "uploader"
   ]
  },
  {
   "cell_type": "markdown",
   "metadata": {},
   "source": [
    "## Output"
   ]
  },
  {
   "cell_type": "code",
   "execution_count": null,
   "metadata": {},
   "outputs": [],
   "source": [
    "# first display the cell\n",
    "out = widgets.Output(layout={\"border\": \"1px solid black\", \"padding\": \"4px\"})\n",
    "out"
   ]
  },
  {
   "cell_type": "code",
   "execution_count": null,
   "metadata": {},
   "outputs": [],
   "source": [
    "# then write to it\n",
    "with out:\n",
    "    print(\"hello, world!\")"
   ]
  },
  {
   "cell_type": "markdown",
   "metadata": {},
   "source": [
    "### HTML"
   ]
  },
  {
   "cell_type": "code",
   "execution_count": null,
   "metadata": {},
   "outputs": [],
   "source": [
    "# html\n",
    "html_plain = widgets.HTML(\"Hello, <b>world!</b>\")\n",
    "html_plain"
   ]
  },
  {
   "cell_type": "markdown",
   "metadata": {},
   "source": [
    "## Style"
   ]
  },
  {
   "cell_type": "markdown",
   "metadata": {},
   "source": [
    "### Animation"
   ]
  },
  {
   "cell_type": "code",
   "execution_count": null,
   "metadata": {},
   "outputs": [],
   "source": [
    "play = widgets.Play(\n",
    "    interval=100,\n",
    "    value=0,\n",
    "    min=0,\n",
    "    max=100,\n",
    "    step=1,\n",
    ")\n",
    "\n",
    "# animated horizontal progress with playback controls (doesn't work in Colab?)\n",
    "int_progress = widgets.IntProgress(min=0, max=100, value=0, bar_style=\"success\")\n",
    "\n",
    "# jslink links the values on the frontend only (faster than updating the backend)\n",
    "widgets.jslink((play, \"value\"), (int_progress, \"value\"))\n",
    "widgets.HBox([play, int_progress])"
   ]
  }
 ],
 "metadata": {
  "kernelspec": {
   "display_name": "Python 3 (ipykernel)",
   "language": "python",
   "name": "python3"
  },
  "language_info": {
   "codemirror_mode": {
    "name": "ipython",
    "version": 3
   },
   "file_extension": ".py",
   "mimetype": "text/x-python",
   "name": "python",
   "nbconvert_exporter": "python",
   "pygments_lexer": "ipython3",
   "version": "3.11.9"
  }
 },
 "nbformat": 4,
 "nbformat_minor": 4
}
