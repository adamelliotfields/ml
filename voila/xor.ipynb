{
 "cells": [
  {
   "cell_type": "markdown",
   "metadata": {},
   "source": [
    "# XOR\n",
    "\n",
    "[![Open in Colab](https://colab.research.google.com/assets/colab-badge.svg)](https://colab.research.google.com/github/adamelliotfields/ml/blob/main/voila/xor.ipynb)\n",
    "[![Render nbviewer](https://img.shields.io/badge/render-nbviewer-f37726)](https://nbviewer.org/github/adamelliotfields/ml/blob/main/voila/xor.ipynb)\n",
    "\n",
    "The XOR function, $\\oplus$, takes two binary inputs and produces a binary output:\n",
    "\n",
    "$x_1 \\oplus x_2 = \\begin{cases} 0 & \\text{if } x_1 = x_2 \\\\ 1 & \\text{if } x_1 \\neq x_2 \\end{cases}$"
   ]
  },
  {
   "cell_type": "code",
   "execution_count": 22,
   "metadata": {},
   "outputs": [],
   "source": [
    "import ipywidgets as widgets\n",
    "import numpy as np\n",
    "\n",
    "from sklearn.neural_network import MLPClassifier"
   ]
  },
  {
   "cell_type": "code",
   "execution_count": null,
   "metadata": {},
   "outputs": [],
   "source": [
    "# dataset\n",
    "X = np.array([[0, 0], [0, 1], [1, 0], [1, 1]])\n",
    "y = np.array([0, 1, 1, 0])\n",
    "\n",
    "# classifier\n",
    "model = MLPClassifier(\n",
    "    max_iter=500,\n",
    "    random_state=42,\n",
    "    hidden_layer_sizes=(32, 32),\n",
    ")\n",
    "model.fit(X, y)"
   ]
  },
  {
   "cell_type": "code",
   "execution_count": null,
   "metadata": {},
   "outputs": [],
   "source": [
    "# 2 tabbed outputs for \"Prediction\" and \"Metrics\"\n",
    "output_predict = widgets.Output()\n",
    "output_metrics = widgets.Output()\n",
    "output_tab = widgets.Tab(layout={\"height\": \"130px\", \"width\": \"280px\"})\n",
    "output_tab.children = [output_predict, output_metrics]\n",
    "output_tab.titles = [\"Prediction\", \"Metrics\"]\n",
    "\n",
    "# dropdowns for input\n",
    "dropdown_input_a = widgets.Dropdown(options=[0, 1], value=0, layout={\"width\": \"60px\"})\n",
    "dropdown_input_b = widgets.Dropdown(options=[0, 1], value=0, layout={\"width\": \"60px\"})\n",
    "dropdown_input_submit = widgets.Button(\n",
    "    description=\"Predict\",\n",
    "    button_style=\"primary\",\n",
    "    layout={\"width\": \"124px\"},\n",
    ")\n",
    "\n",
    "# prediction placeholder\n",
    "with output_predict:\n",
    "    print(\"?\")\n",
    "\n",
    "\n",
    "# training accuracy and loss\n",
    "with output_metrics:\n",
    "    accuracy = model.score(X, y)\n",
    "    print(f\"Accuracy: {accuracy:.2f}\")\n",
    "    print(f\"Loss: {model.loss_:.2f}\")\n",
    "\n",
    "\n",
    "def on_input_submit(_):\n",
    "    with output_predict:\n",
    "        a_value = dropdown_input_a.value\n",
    "        b_value = dropdown_input_b.value\n",
    "        output_predict.clear_output(wait=True)\n",
    "        prediction = model.predict([[a_value, b_value]])\n",
    "        print(f\"{int(prediction[0])} ({a_value} ⊕ {b_value})\")\n",
    "\n",
    "\n",
    "dropdown_input_submit.on_click(on_input_submit)\n",
    "\n",
    "widgets.VBox(\n",
    "    [\n",
    "        output_tab,\n",
    "        widgets.HBox([dropdown_input_a, dropdown_input_b, dropdown_input_submit]),\n",
    "    ]\n",
    ")"
   ]
  }
 ],
 "metadata": {
  "kernelspec": {
   "display_name": ".venv",
   "language": "python",
   "name": "python3"
  },
  "language_info": {
   "codemirror_mode": {
    "name": "ipython",
    "version": 3
   },
   "file_extension": ".py",
   "mimetype": "text/x-python",
   "name": "python",
   "nbconvert_exporter": "python",
   "pygments_lexer": "ipython3",
   "version": "3.11.9"
  }
 },
 "nbformat": 4,
 "nbformat_minor": 2
}
