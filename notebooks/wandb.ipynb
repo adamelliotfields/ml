{
 "cells": [
  {
   "cell_type": "markdown",
   "metadata": {},
   "source": [
    "# Weights & Biases\n",
    "\n",
    "[![Open in Colab](https://colab.research.google.com/assets/colab-badge.svg)](https://colab.research.google.com/github/adamelliotfields/ml/blob/main/notebooks/wandb.ipynb)\n",
    "[![Render nbviewer](https://img.shields.io/badge/render-nbviewer-f37726)](https://nbviewer.org/github/adamelliotfields/ml/blob/main/notebooks/wandb.ipynb)\n",
    "\n",
    "Experiment tracking with [W&B](https://wandb.ai). This notebook includes a couple Scikit-learn estimators to demonstrate the basics.\n",
    "\n",
    "**Resources**\n",
    "\n",
    "* [Alerts](https://docs.wandb.ai/guides/runs/alert)\n",
    "* [Environment variables](https://docs.wandb.ai/guides/track/environment-variables)\n",
    "* Artifacts:\n",
    "  - [TTL](https://docs.wandb.ai/guides/artifacts/ttl)\n",
    "  - [Webhooks](https://docs.wandb.ai/guides/artifacts/project-scoped-automations)\n",
    "* Integrations:\n",
    "  - [🤗 Transformers](https://docs.wandb.ai/guides/integrations/huggingface)\n",
    "  - [🤗 Diffusers](https://docs.wandb.ai/guides/integrations/diffusers)\n",
    "  - [Keras](https://docs.wandb.ai/guides/integrations/keras)\n",
    "  - [TensorBoard](https://docs.wandb.ai/guides/integrations/tensorboard)\n",
    "  - [Lightning](https://docs.wandb.ai/guides/integrations/lightning)\n",
    "  - [LightGBM](https://docs.wandb.ai/guides/integrations/lightgbm)\n",
    "  - [Sklearn](https://docs.wandb.ai/guides/integrations/scikit)\n",
    "  - [OpenAI](https://docs.wandb.ai/guides/integrations/openai-api)"
   ]
  },
  {
   "cell_type": "code",
   "execution_count": null,
   "metadata": {},
   "outputs": [],
   "source": [
    "import subprocess\n",
    "import sys\n",
    "import os\n",
    "\n",
    "from importlib.util import find_spec\n",
    "\n",
    "os.environ[\"TF_CPP_MIN_LOG_LEVEL\"] = \"2\"\n",
    "os.environ[\"KERAS_BACKEND\"] = \"tensorflow\"\n",
    "\n",
    "if not find_spec(\"wandb\"):\n",
    "    subprocess.check_call([sys.executable, \"-m\", \"pip\", \"install\", \"wandb\"])\n",
    "\n",
    "if find_spec(\"google.colab\"):\n",
    "    from google.colab import userdata\n",
    "\n",
    "    # disable saving notebook if scratchpad\n",
    "    # os.environ[\"WANDB_DISABLE_CODE\"] = \"true\"\n",
    "    os.environ[\"WANDB_DISABLE_GIT\"] = \"true\"\n",
    "    os.environ[\"WANDB_API_KEY\"] = userdata.get(\"WANDB_API_KEY\")\n",
    "\n",
    "# can also use `wandb.login` for interactive login\n",
    "assert os.environ.get(\"WANDB_API_KEY\"), \"missing WANDB_API_KEY\""
   ]
  },
  {
   "cell_type": "code",
   "execution_count": null,
   "metadata": {},
   "outputs": [],
   "source": [
    "import io\n",
    "import wandb\n",
    "\n",
    "import numpy as np\n",
    "import pandas as pd\n",
    "import tensorflow as tf\n",
    "import plotly.express as px\n",
    "import matplotlib.pyplot as plt\n",
    "\n",
    "from PIL import Image as PILImage\n",
    "from yellowbrick.classifier import ConfusionMatrix\n",
    "\n",
    "from wandb.sklearn import plot_precision_recall, plot_feature_importances\n",
    "from wandb.sklearn import plot_class_proportions, plot_learning_curve, plot_roc\n",
    "\n",
    "from sklearn.tree import DecisionTreeClassifier\n",
    "from sklearn.neighbors import KNeighborsClassifier\n",
    "from sklearn.datasets import load_diabetes, load_iris\n",
    "from sklearn.model_selection import train_test_split\n",
    "from sklearn.ensemble import GradientBoostingRegressor, RandomForestClassifier\n",
    "from sklearn.metrics import (\n",
    "    mean_absolute_percentage_error,\n",
    "    mean_squared_error,\n",
    "    mean_absolute_error,\n",
    "    r2_score,\n",
    ")"
   ]
  },
  {
   "cell_type": "code",
   "execution_count": null,
   "metadata": {},
   "outputs": [],
   "source": [
    "# @title Config\n",
    "WANDB_ENTITY = \"adamelliotfields\"  # @param {type:\"string\"}\n",
    "WANDB_PROJECT = \"test\"  # @param {type:\"string\"}"
   ]
  },
  {
   "cell_type": "markdown",
   "metadata": {},
   "source": [
    "## Iris Classification"
   ]
  },
  {
   "cell_type": "code",
   "execution_count": null,
   "metadata": {},
   "outputs": [],
   "source": [
    "iris = load_iris()\n",
    "\n",
    "X_iris, y_iris = iris.data, iris.target\n",
    "X_iris_train, X_iris_test, y_iris_train, y_iris_test = train_test_split(\n",
    "    X_iris,\n",
    "    y_iris,\n",
    "    test_size=0.2,\n",
    "    random_state=42,\n",
    ")\n",
    "\n",
    "iris_df = pd.DataFrame(data=np.c_[X_iris, y_iris], columns=iris.feature_names + [\"target\"])\n",
    "iris_df.target = pd.Categorical.from_codes(y_iris, iris.target_names)"
   ]
  },
  {
   "cell_type": "code",
   "execution_count": null,
   "metadata": {},
   "outputs": [],
   "source": [
    "fig = px.scatter(\n",
    "    iris_df,\n",
    "    color=\"target\",\n",
    "    trendline=\"ols\",\n",
    "    marginal_x=\"box\",\n",
    "    marginal_y=\"violin\",\n",
    "    x=\"sepal width (cm)\",\n",
    "    y=\"sepal length (cm)\",\n",
    ")\n",
    "fig.show()"
   ]
  },
  {
   "cell_type": "code",
   "execution_count": null,
   "metadata": {},
   "outputs": [],
   "source": [
    "# classifier = DecisionTreeClassifier()\n",
    "# classifier = RandomForestClassifier(n_estimators=300, min_samples_split=5, min_samples_leaf=2, random_state=42)\n",
    "classifier = KNeighborsClassifier(n_neighbors=3)\n",
    "classifier.fit(X_iris_train, y_iris_train)\n",
    "y_probas = classifier.predict_proba(X_iris_test)"
   ]
  },
  {
   "cell_type": "code",
   "execution_count": null,
   "metadata": {},
   "outputs": [],
   "source": [
    "# yellowbrick confusion matrix\n",
    "cm = ConfusionMatrix(classifier, classes=iris.target_names, cmap=\"Blues\", is_fitted=True)\n",
    "cm.fit(X_iris_train, y_iris_train)\n",
    "cm.score(X_iris_test, y_iris_test)\n",
    "\n",
    "# save as PIL image\n",
    "buf = io.BytesIO()\n",
    "plt.savefig(buf, format=\"png\")\n",
    "plt.show()\n",
    "buf.seek(0)\n",
    "img = PILImage.open(buf)"
   ]
  },
  {
   "cell_type": "code",
   "execution_count": null,
   "metadata": {},
   "outputs": [],
   "source": [
    "# returns a run instance, which can also be accessed on `wandb.run`\n",
    "wandb.init(\n",
    "    group=\"iris\",\n",
    "    tags=[\"CPU\"],\n",
    "    job_type=\"train\",\n",
    "    entity=WANDB_ENTITY,\n",
    "    project=WANDB_PROJECT,\n",
    "    notes=\"KNN classifier\",\n",
    "    config=classifier.get_params(),\n",
    ")\n",
    "\n",
    "# log additional information\n",
    "wandb.config.update(\n",
    "    {\n",
    "        \"test_size\": 0.2,\n",
    "        \"model\": \"KNeighborsClassifier\",\n",
    "    }\n",
    ")\n",
    "\n",
    "# renders an interactive Plotly figure (in the dashboard)\n",
    "# wandb.log is shorthand for wandb.run.log\n",
    "wandb.log({\"Plotly\": wandb.Plotly(fig)})\n",
    "\n",
    "# renders a static image\n",
    "wandb.log({\"Confusion Matrix\": wandb.Image(img)})\n",
    "\n",
    "# create a dataset artifact and additionally attach the raw CSV\n",
    "iris_df.to_csv(\"iris.csv\", index=False)\n",
    "iris_table = wandb.Table(dataframe=iris_df)\n",
    "iris_artifact = wandb.Artifact(\"data\", type=\"dataset\")\n",
    "iris_artifact.add(iris_table, \"table\")\n",
    "iris_artifact.add_file(\"iris.csv\")\n",
    "wandb.log({\"data\": iris_table})\n",
    "wandb.log_artifact(iris_artifact)\n",
    "\n",
    "# built-in wandb plots for scikit-learn\n",
    "plot_class_proportions(y_iris_train, y_iris_test, iris.target_names)\n",
    "plot_learning_curve(classifier, X_iris_train, y_iris_train, random_state=42)\n",
    "plot_roc(y_iris_test, y_probas, iris.target_names)\n",
    "plot_precision_recall(y_iris_test, y_probas, iris.target_names)\n",
    "# plot_feature_importances(classifier, iris.feature_names)  # only for trees\n",
    "\n",
    "# must call finish in a notebook (if not using context)\n",
    "wandb.finish()"
   ]
  },
  {
   "cell_type": "markdown",
   "metadata": {},
   "source": [
    "## Diabetes Regression"
   ]
  },
  {
   "cell_type": "code",
   "execution_count": null,
   "metadata": {},
   "outputs": [],
   "source": [
    "diabetes = load_diabetes()\n",
    "\n",
    "X_diabetes, y_diabetes = diabetes.data, diabetes.target\n",
    "X_diabetes_train, X_diabetes_test, y_diabetes_train, y_diabetes_test = train_test_split(\n",
    "    X_diabetes,\n",
    "    y_diabetes,\n",
    "    random_state=42,\n",
    ")\n",
    "\n",
    "diabetes_df = pd.DataFrame(\n",
    "    data=np.c_[X_diabetes, y_diabetes],\n",
    "    columns=diabetes.feature_names + [\"target\"],\n",
    ")"
   ]
  },
  {
   "cell_type": "code",
   "execution_count": null,
   "metadata": {},
   "outputs": [],
   "source": [
    "regressor = GradientBoostingRegressor(\n",
    "    max_depth=2,\n",
    "    subsample=0.9,\n",
    "    random_state=42,\n",
    "    n_estimators=100,\n",
    "    min_samples_leaf=2,\n",
    "    min_samples_split=10,\n",
    ")\n",
    "\n",
    "regressor.fit(X_diabetes_train, y_diabetes_train)\n",
    "y_pred = regressor.predict(X_diabetes_test)\n",
    "\n",
    "# logging these will automatically plot them\n",
    "r2 = r2_score(y_diabetes_test, y_pred)\n",
    "mse = mean_squared_error(y_diabetes_test, y_pred)\n",
    "mae = mean_absolute_error(y_diabetes_test, y_pred)\n",
    "mape = mean_absolute_percentage_error(y_diabetes_test, y_pred)"
   ]
  },
  {
   "cell_type": "code",
   "execution_count": null,
   "metadata": {},
   "outputs": [],
   "source": [
    "# use a context manager so you don't need to call `finish`\n",
    "with wandb.init(\n",
    "    tags=[\"CPU\"],\n",
    "    job_type=\"train\",\n",
    "    group=\"diabetes\",\n",
    "    entity=WANDB_ENTITY,\n",
    "    project=WANDB_PROJECT,\n",
    "    config=regressor.get_params(),\n",
    "    notes=\"GradientBoostingRegressor\",\n",
    ") as run:\n",
    "    wandb.config.update(\n",
    "        {\n",
    "            \"test_size\": 0.2,\n",
    "            \"model\": \"GradientBoostingRegressor\",\n",
    "        }\n",
    "    )\n",
    "\n",
    "    # use a slash to group\n",
    "    run.log({\"metrics/R2\": r2, \"metrics/MSE\": mse, \"metrics/MAE\": mae, \"metrics/MAPE\": mape})"
   ]
  }
 ],
 "metadata": {
  "kernelspec": {
   "display_name": ".venv",
   "language": "python",
   "name": "python3"
  },
  "language_info": {
   "codemirror_mode": {
    "name": "ipython",
    "version": 3
   },
   "file_extension": ".py",
   "mimetype": "text/x-python",
   "name": "python",
   "nbconvert_exporter": "python",
   "pygments_lexer": "ipython3",
   "version": "3.11.9"
  }
 },
 "nbformat": 4,
 "nbformat_minor": 2
}
